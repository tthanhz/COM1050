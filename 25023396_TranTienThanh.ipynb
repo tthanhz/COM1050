{
 "cells": [
  {
   "cell_type": "markdown",
   "id": "20f25931",
   "metadata": {},
   "source": [
    "Bai 1\n"
   ]
  },
  {
   "cell_type": "code",
   "execution_count": 20,
   "id": "57b1abe8",
   "metadata": {},
   "outputs": [
    {
     "name": "stdout",
     "output_type": "stream",
     "text": [
      " trung binh \n"
     ]
    }
   ],
   "source": [
    "a= float ( input (\"toan \") ) \n",
    "b = float ( input ( \"ly \" ) ) \n",
    "c = float ( input ( \"hoa \") ) \n",
    "d = float ( input ( \"anh  \") )\n",
    "x = ( a + b + c + d ) / 4 \n",
    "if ( a < 4 or b < 4 or c < 4 or d < 4 ) :\n",
    "    print ( \" hoc luc kem \")\n",
    "elif  ( x < 5.5 ) : \n",
    "    print ( \" yeu  \")\n",
    "elif ( x >= 5.5 and x < 7.0  ) : \n",
    "    print ( \" trung binh \"  )\n",
    "elif ( x >= 7.0 and x < 8.5 ) : \n",
    "    print ( \" kha \")\n",
    "elif ( x > 8.5 and x < 9.0 ) : \n",
    "    print ( \" gioi \")\n",
    "elif ( x >= 9.0 ) :\n",
    "    print ( \" xuat sac \")\n",
    "\n"
   ]
  },
  {
   "cell_type": "markdown",
   "id": "0ee0997f",
   "metadata": {},
   "source": [
    "Bai 2\n"
   ]
  },
  {
   "cell_type": "code",
   "execution_count": 23,
   "id": "080f6991",
   "metadata": {},
   "outputs": [
    {
     "name": "stdout",
     "output_type": "stream",
     "text": [
      "BMI cua ban: 22.49\n",
      "Phan loai: Bình thường \n"
     ]
    }
   ],
   "source": [
    "chieu_cao = float ( input ())\n",
    "can_nang = float ( input ())\n",
    "\n",
    "chi_so = (can_nang  )/(chieu_cao **2)\n",
    "if ( chi_so < 18.5):\n",
    "    print ( \"BMI cua ban:\", round ( chi_so , 2) ,end = '\\n') \n",
    "    print ( \"Phan loai:\", \"Thiếu cân\")\n",
    "if ( chi_so >= 25 and chi_so < 30  ):\n",
    "    print ( \"BMI cua ban:\", round ( chi_so , 2),end = '\\n') \n",
    "    print ( \"Phan loai:\", \"Thừa cân\")\n",
    "if ( chi_so >= 18.5 and chi_so < 25):\n",
    "    print ( \"BMI cua ban:\", round ( chi_so , 2) ,end = '\\n') \n",
    "    print ( \"Phan loai:\", \"Bình thường \")\n",
    "if ( chi_so >= 30 ):\n",
    "    print ( \"BMI cua ban:\", round ( chi_so , 2),end = '\\n') \n",
    "    print ( \"Phan loai:\", \"Béo phì\")\n",
    "\n"
   ]
  },
  {
   "cell_type": "markdown",
   "id": "06be4cf6",
   "metadata": {},
   "source": [
    "Bai 3"
   ]
  },
  {
   "cell_type": "code",
   "execution_count": null,
   "id": "b47b88a0",
   "metadata": {},
   "outputs": [
    {
     "name": "stdout",
     "output_type": "stream",
     "text": [
      "Tên mặt hàng: sách\n",
      "SL: 2.0\n",
      "Đơn giá: 25\n",
      "Tên mặt hàng: vở \n",
      "SL: 3.0\n",
      "Đơn giá: 30\n",
      "Tổng tiên sản phẩm là: 126.0\n"
     ]
    }
   ],
   "source": [
    "so_mat_hang = float ( input(\"số mặt hàng là :\"))\n",
    "res = 0 \n",
    "while  (so_mat_hang>0 ): \n",
    "    ten_mat_hang = input (\"tên mặt hàng: \")\n",
    "    gia_mat_hang = float ( input (\"giá mặt hàng: \"))\n",
    "    so_luong = int ( input (\"SL mặt hàng: \"))\n",
    "    res +=  ( gia_mat_hang * so_luong )\n",
    "    print ( \"Tên mặt hàng:\",ten_mat_hang,end ='\\n' )\n",
    "    print ( \"SL:\",so_luong,end ='\\n' )\n",
    "    print ( \"Đơn giá:\",gia_mat_hang,end ='\\n' )\n",
    "    so_mat_hang -= 1\n",
    "if( res >= 50 and res < 100 ) :\n",
    "    print ( \"Tổng tiên sản phẩm là:\", res*0.95)\n",
    "elif ( res >= 100) :\n",
    "    print ( \"Tổng tiên sản phẩm là:\", res*0.9)\n",
    "\n",
    "\n"
   ]
  }
 ],
 "metadata": {
  "kernelspec": {
   "display_name": "Python 3",
   "language": "python",
   "name": "python3"
  },
  "language_info": {
   "codemirror_mode": {
    "name": "ipython",
    "version": 3
   },
   "file_extension": ".py",
   "mimetype": "text/x-python",
   "name": "python",
   "nbconvert_exporter": "python",
   "pygments_lexer": "ipython3",
   "version": "3.13.7"
  }
 },
 "nbformat": 4,
 "nbformat_minor": 5
}
